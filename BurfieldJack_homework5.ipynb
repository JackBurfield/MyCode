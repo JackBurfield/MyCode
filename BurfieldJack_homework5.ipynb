{
 "cells": [
  {
   "cell_type": "markdown",
   "metadata": {},
   "source": [
    "# **Homework Five**"
   ]
  },
  {
   "cell_type": "markdown",
   "metadata": {},
   "source": [
    "\n",
    "•\t(Ungraded, but as always, completion still counts!) DataCamp Data Ingestion & inspection, and Exploratory data analysis\n",
    "\n",
    "•\t(Ungraded) Reading Vanderplas Chapters 2 & 3 (https://jakevdp.github.io/PythonDataScienceHandbook/)\n",
    "\n",
    "•\t(Graded) Part I: Gaddis 11.3 (Follow prompts below), Part II: Data exercise below (Enter your code whereever it says # Your code here)"
   ]
  },
  {
   "cell_type": "markdown",
   "metadata": {},
   "source": [
    "# ** Part I (Gaddis 11.3)**"
   ]
  },
  {
   "cell_type": "markdown",
   "metadata": {},
   "source": [
    "Below is a class named <span style=\"color:green\"> Person </span> with data attributes for a person’s ** name, address, and telephone number**. Next, write a class named <span style=\"color:green\"> Customer </span> that is a subclass of the Person class. The <span style=\"color:green\"> Customer </span> class should have a data attribute for a **customer number**, and a Boolean data attribute, **on_list**, indicating whether the customer wishes to be on a mailing list. The <span style=\"color:green\"> Customer </span> class should also have a method that asks the user if they want to be on the list (y/n), and then assigns that to the on_list attribute. Demonstrate an instance of the <span style=\"color:green\"> Customer </span> class in a simple program. (This is a short problem, so don't overthink it.)\n"
   ]
  },
  {
   "cell_type": "code",
   "execution_count": 1,
   "metadata": {},
   "outputs": [],
   "source": [
    "class Person:\n",
    "    def __init__(self, name, address, phone_number):\n",
    "        self.name = name\n",
    "        self.address = address\n",
    "        self.phone_number = phone_number"
   ]
  },
  {
   "cell_type": "code",
   "execution_count": 2,
   "metadata": {},
   "outputs": [],
   "source": [
    "class Customer(Person):\n",
    "    def __init__(self, name, address, phone_number, cust_number, on_list):\n",
    "        # Your code here\n",
    "        #Person.__init__(self, name, address, phone_number)\n",
    "        self.cust_number = cust_number\n",
    "        self.on_list = on_list == True\n",
    "\n",
    "    def set_on_list(self):\n",
    "        # Your code here\n",
    "        mail = input(\"Would you like to be on the mailing list (y/n)\")\n",
    "        self.on_list = mail\n",
    "        if mail == 'y':\n",
    "            self.on_list = True\n",
    "        if mail == 'n':\n",
    "            self.on_list = False\n",
    "            "
   ]
  },
  {
   "cell_type": "markdown",
   "metadata": {},
   "source": [
    "1. Create an instance of the Customer class called Jane, instantiating Jane with 'n' for the on-list attribute. \n",
    "2. Then call the set_on_list() method for Jane, and respond 'y'\n",
    "3. Call the Jane.on_list attribute to show that on_list changed from 'n' to 'y'"
   ]
  },
  {
   "cell_type": "code",
   "execution_count": 4,
   "metadata": {},
   "outputs": [
    {
     "name": "stdout",
     "output_type": "stream",
     "text": [
      "Would you like to be on the mailing list (y/n)y\n"
     ]
    },
    {
     "data": {
      "text/plain": [
       "True"
      ]
     },
     "execution_count": 4,
     "metadata": {},
     "output_type": "execute_result"
    }
   ],
   "source": [
    "# Your code here after Jane\n",
    "#Jane = Customer(self, name, address, phone_number, cust_number, on_list)\n",
    "Jane = Customer('Jane', '1434 Marsh St', 9392839440, 77, 'n')\n",
    "Jane.set_on_list()\n",
    "Jane.on_list"
   ]
  },
  {
   "cell_type": "markdown",
   "metadata": {},
   "source": [
    "# Part II (Data)"
   ]
  },
  {
   "cell_type": "markdown",
   "metadata": {},
   "source": [
    "a) Use the bmore.csv dataset for this homework. Make sure your output does not display errors. \n",
    "Import the data into a DataFrame and describe the data."
   ]
  },
  {
   "cell_type": "code",
   "execution_count": 5,
   "metadata": {},
   "outputs": [],
   "source": [
    "import time                     \n",
    "import numpy as np\n",
    "import matplotlib.pyplot as plt\n",
    "import pandas as pd\n",
    "from scipy import stats as st\n",
    "import statsmodels.formula.api as sm\n",
    "from patsy import dmatrices\n",
    "\n",
    "# Your code here to load the csv file\n",
    "df = pd.read_csv('bmore.csv')"
   ]
  },
  {
   "cell_type": "markdown",
   "metadata": {},
   "source": [
    "b) Report summary statistics (e.g., mean, median, and standard deviations) of all numerical\n",
    "variables using numpy's methods. That is, print a table that says something like this:\n",
    "\n",
    "** variable 1 name **\n",
    "\n",
    "mean(Variable 1)\n",
    "\n",
    "median(variable 1)\n",
    "\n",
    "stand.Dev.(Variable 1)\n",
    "\n",
    "\n",
    "\n",
    "** variable 2 name**\n",
    "\n",
    "mean(Variable 2)\n",
    "\n",
    "median(variable 2)\n",
    "\n",
    "mode(variable 2)"
   ]
  },
  {
   "cell_type": "code",
   "execution_count": 6,
   "metadata": {},
   "outputs": [
    {
     "name": "stdout",
     "output_type": "stream",
     "text": [
      "Population\n",
      "mean: 11214.58\n",
      "median: 9874.00\n",
      "Standard Deviation: 4301.13\n",
      "\n",
      "Median_Income\n",
      "mean: 40319.45\n",
      "median: 36632.00\n",
      "Standard Deviation: 16255.20\n",
      "\n",
      "Unemployed\n",
      "mean: 0.12\n",
      "median: 0.11\n",
      "Standard Deviation: 0.05\n",
      "\n",
      "Families_in_Poverty\n",
      "mean: 0.16\n",
      "median: 0.13\n",
      "Standard Deviation: 0.10\n",
      "\n",
      "Bachelors_degree\n",
      "mean: 0.26\n",
      "median: 0.18\n",
      "Standard Deviation: 0.21\n",
      "\n",
      "Juvenile_Arrest_Rate\n",
      "mean: 162.87\n",
      "median: 129.40\n",
      "Standard Deviation: 131.62\n",
      "\n",
      "Homicide_Incidence_Rate\n",
      "mean: 21.46\n",
      "median: 19.00\n",
      "Standard Deviation: 15.38\n",
      "\n",
      "Unnamed: 8\n",
      "mean: 71.50\n",
      "median: 71.90\n",
      "Standard Deviation: 4.74\n",
      "\n"
     ]
    }
   ],
   "source": [
    "for x in df.columns:\n",
    "    if (df[x].dtypes) == np.dtype('O'):\n",
    "        # This if statement says, data type is a string/word, don't attempt to calculate stats\n",
    "        pass\n",
    "    else: \n",
    "        # Your code here\n",
    "        print(x)\n",
    "        print('Mean: ' + str(format(np.mean(df[x]), '.2f')))\n",
    "        print('Median: ' + str(format(np.median(df[x]), '.2f')))\n",
    "        print('Standard Deviation: ' + str(format(np.std(df[x]), '.2f')))\n",
    "        print('')"
   ]
  },
  {
   "cell_type": "markdown",
   "metadata": {},
   "source": [
    "Make a scatterplot of Median Income and Bachelors degree. The latter variable measures the\n",
    "percentage of the population in the county that has a bachelors degree. Label the x-axis \"Percent Bachelors Degree\", and make the title \"Scatterpolt of Median Income and Bachelors Degree.\""
   ]
  },
  {
   "cell_type": "code",
   "execution_count": 7,
   "metadata": {},
   "outputs": [
    {
     "data": {
      "image/png": "[encoded data removed]",
      "text/plain": [
       "<Figure size 432x288 with 1 Axes>"
      ]
     },
     "metadata": {},
     "output_type": "display_data"
    }
   ],
   "source": [
    "# Show graphs within the Python notebook use matplotlib inline command\n",
    "%matplotlib inline\n",
    "y_axis = ['Median_Income']\n",
    "x_axis = ['Bachelors_degree']\n",
    "df.plot(y = y_axis, x = x_axis, kind = 'scatter')\n",
    "plt.title('Scatterplot of Median Income and Bachelors Degree')\n",
    "plt.xlabel('Percent Bachelors Degree')\n",
    "# Your code here\n",
    "plt.show()"
   ]
  },
  {
   "cell_type": "markdown",
   "metadata": {},
   "source": [
    "Run a regression model of the following form:\n",
    "Report a table with all coefficient estimates including p-values."
   ]
  },
  {
   "cell_type": "markdown",
   "metadata": {},
   "source": [
    "$$\\textrm{Juvenile_Arrest_Rate} = \n",
    "\\beta_0 + \\beta_1\\textrm{Population} + \\beta_2\\textrm{Median_Income} + \\beta_3\\textrm{Unemployment} + \\beta4\\textrm{Education} + \\beta_5\\textrm{Poverty} + \\epsilon $$"
   ]
  },
  {
   "cell_type": "code",
   "execution_count": 18,
   "metadata": {},
   "outputs": [
    {
     "name": "stdout",
     "output_type": "stream",
     "text": [
      "                             OLS Regression Results                             \n",
      "================================================================================\n",
      "Dep. Variable:     Juvenile_Arrest_Rate   R-squared:                       0.415\n",
      "Model:                              OLS   Adj. R-squared:                  0.356\n",
      "Method:                   Least Squares   F-statistic:                     6.963\n",
      "Date:                  Thu, 17 May 2018   Prob (F-statistic):           5.55e-05\n",
      "Time:                          16:53:03   Log-Likelihood:                -331.67\n",
      "No. Observations:                    55   AIC:                             675.3\n",
      "Df Residuals:                        49   BIC:                             687.4\n",
      "Df Model:                             5                                         \n",
      "Covariance Type:              nonrobust                                         \n",
      "=======================================================================================\n",
      "                          coef    std err          t      P>|t|      [0.025      0.975]\n",
      "---------------------------------------------------------------------------------------\n",
      "Intercept             265.4481    117.846      2.252      0.029      28.628     502.268\n",
      "Population             -0.0039      0.004     -1.097      0.278      -0.011       0.003\n",
      "Median_Income          -0.0054      0.002     -2.744      0.008      -0.009      -0.001\n",
      "Unemployed           -327.2254    460.436     -0.711      0.481   -1252.506     598.055\n",
      "Bachelors_degree      434.1787    124.732      3.481      0.001     183.520     684.838\n",
      "Families_in_Poverty   523.8737    265.980      1.970      0.055     -10.633    1058.380\n",
      "==============================================================================\n",
      "Omnibus:                       47.104   Durbin-Watson:                   2.035\n",
      "Prob(Omnibus):                  0.000   Jarque-Bera (JB):              251.263\n",
      "Skew:                           2.176   Prob(JB):                     2.75e-55\n",
      "Kurtosis:                      12.524   Cond. No.                     1.51e+06\n",
      "==============================================================================\n",
      "\n",
      "Warnings:\n",
      "[1] Standard Errors assume that the covariance matrix of the errors is correctly specified.\n",
      "[2] The condition number is large, 1.51e+06. This might indicate that there are\n",
      "strong multicollinearity or other numerical problems.\n"
     ]
    }
   ],
   "source": [
    "# Create a fitted model\n",
    "lm = sm.ols(formula = 'Juvenile_Arrest_Rate ~ Population + Median_Income + Unemployed + Bachelors_degree + Families_in_Poverty', data = df).fit()\n",
    "\n",
    "\n",
    "# Your code here: print model summary\n",
    "print(lm.summary())"
   ]
  },
  {
   "cell_type": "markdown",
   "metadata": {
    "collapsed": true
   },
   "source": [
    "Interpret the coefficient on median income. A \\$1 dollar increase in median income will decrease the incarceration rate by how much? What about a \\$1,000 increase?"
   ]
  },
  {
   "cell_type": "markdown",
   "metadata": {
    "collapsed": true
   },
   "source": [
    "# Your response here\n"
   ]
  },
  {
   "cell_type": "code",
   "execution_count": 8,
   "metadata": {},
   "outputs": [
    {
     "name": "stdout",
     "output_type": "stream",
     "text": [
      "A $1 increase in mediean income is associated with an average decrease in incarceration rate by .0054, holding all else constant. A $1,000 increase in median income would decrease the incarceration rate by 5.4.\n"
     ]
    }
   ],
   "source": [
    "# Enter your interpretation of the coefficient\n",
    "print('A $1 increase in mediean income is associated with an average decrease in incarceration rate by .0054, holding all else constant. A $1,000 increase in median income would decrease the incarceration rate by 5.4.')\n"
   ]
  },
  {
   "cell_type": "code",
   "execution_count": null,
   "metadata": {},
   "outputs": [],
   "source": []
  }
 ],
 "metadata": {
  "kernelspec": {
   "display_name": "Python 3",
   "language": "python",
   "name": "python3"
  },
  "language_info": {
   "codemirror_mode": {
    "name": "ipython",
    "version": 3
   },
   "file_extension": ".py",
   "mimetype": "text/x-python",
   "name": "python",
   "nbconvert_exporter": "python",
   "pygments_lexer": "ipython3",
   "version": "3.6.5"
  }
 },
 "nbformat": 4,
 "nbformat_minor": 2
}
